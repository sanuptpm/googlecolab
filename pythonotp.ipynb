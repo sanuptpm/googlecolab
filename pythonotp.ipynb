{
  "nbformat": 4,
  "nbformat_minor": 0,
  "metadata": {
    "colab": {
      "name": "Untitled1.ipynb",
      "version": "0.3.2",
      "provenance": [],
      "include_colab_link": true
    },
    "kernelspec": {
      "name": "python3",
      "display_name": "Python 3"
    }
  },
  "cells": [
    {
      "cell_type": "markdown",
      "metadata": {
        "id": "view-in-github",
        "colab_type": "text"
      },
      "source": [
        "<a href=\"https://colab.research.google.com/github/sanuptpm/googlecolab/blob/master/pythonotp.ipynb\" target=\"_parent\"><img src=\"https://colab.research.google.com/assets/colab-badge.svg\" alt=\"Open In Colab\"/></a>"
      ]
    },
    {
      "metadata": {
        "id": "Z-MDdGHxRqu0",
        "colab_type": "code",
        "colab": {
          "base_uri": "https://localhost:8080/",
          "height": 34
        },
        "outputId": "8ef1e7e0-cc64-43a7-d975-657a4826f636"
      },
      "cell_type": "code",
      "source": [
        "# import library \n",
        "import math, random \n",
        "\n",
        "# function to generate OTP \n",
        "def generateOTP() : \n",
        "\n",
        "\t# Declare a digits variable \n",
        "\t# which stores all digits \n",
        "\tdigits = \"0123456789\"\n",
        "\tOTP = \"\" \n",
        "\n",
        "# length of password can be chaged \n",
        "# by changing value in range \n",
        "\tfor i in range(4) : \n",
        "\t\tOTP += digits[math.floor(random.random() * 10)] \n",
        "\n",
        "\treturn OTP \n",
        "\n",
        "# Driver code \n",
        "if __name__ == \"__main__\" : \n",
        "\t\n",
        "\tprint(\"OTP of 4 digits:\", generateOTP()) \n"
      ],
      "execution_count": 1,
      "outputs": [
        {
          "output_type": "stream",
          "text": [
            "OTP of 4 digits: 0677\n"
          ],
          "name": "stdout"
        }
      ]
    },
    {
      "metadata": {
        "id": "Dri73PWwR2CX",
        "colab_type": "text"
      },
      "cell_type": "markdown",
      "source": [
        ""
      ]
    }
  ]
}